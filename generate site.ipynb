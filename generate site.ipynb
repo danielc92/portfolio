{
 "cells": [
  {
   "cell_type": "markdown",
   "metadata": {},
   "source": [
    "# Generate Site Notebook\n",
    "This notebook will be responsible for generating the website's `index.html` file. `bulma` css framework will be used for this site."
   ]
  },
  {
   "cell_type": "markdown",
   "metadata": {},
   "source": [
    "###  Base templates"
   ]
  },
  {
   "cell_type": "markdown",
   "metadata": {},
   "source": [
    "#### Skeleton "
   ]
  },
  {
   "cell_type": "code",
   "execution_count": 1,
   "metadata": {},
   "outputs": [],
   "source": [
    "html_skeleton = '''\n",
    "<!DOCTYPE html>\n",
    "<html>\n",
    "    <head>\n",
    "        <meta charset=\"utf-8\">\n",
    "        <meta name=\"viewport\" content=\"width=device-width, initial-scale=1\">\n",
    "        <title>Daniel Corcoran's Portfolio</title>\n",
    "        <link rel=\"stylesheet\" href=\"https://cdnjs.cloudflare.com/ajax/libs/bulma/0.7.2/css/bulma.min.css\">\n",
    "        <script defer src=\"https://use.fontawesome.com/releases/v5.3.1/js/all.js\"></script>\n",
    "        <link rel=\"apple-touch-icon\" sizes=\"180x180\" href=\"favicon_io/apple-touch-icon.png\">\n",
    "        <link rel=\"icon\" type=\"image/png\" sizes=\"32x32\" href=\"favicon_io/favicon-32x32.png\">\n",
    "        <link rel=\"manifest\" href=\"favicon_io/site.webmanifest\">\n",
    "    </head>\n",
    "    <body>\n",
    "    {}\n",
    "    {}\n",
    "    {}\n",
    "    </body>\n",
    "</html>\n",
    "'''"
   ]
  },
  {
   "cell_type": "markdown",
   "metadata": {},
   "source": [
    "#### Navbar"
   ]
  },
  {
   "cell_type": "code",
   "execution_count": 2,
   "metadata": {},
   "outputs": [],
   "source": [
    "nav = '''\n",
    "<nav class=\"navbar\" role=\"navigation\" aria-label=\"main navigation\">\n",
    "      <section class = \"container\">\n",
    "      <div class=\"navbar-brand\">\n",
    "        <a class=\"navbar-item\" href=\"#\">\n",
    "          <img src=\"favicon_io/logo-via-logohub.png\" width=\"270\" height=\"28\">\n",
    "        </a>\n",
    "\n",
    "        <a role=\"button\" class=\"navbar-burger burger\" aria-label=\"menu\" aria-expanded=\"false\" data-target=\"navbarBasicExample\">\n",
    "          <span aria-hidden=\"true\"></span>\n",
    "          <span aria-hidden=\"true\"></span>\n",
    "          <span aria-hidden=\"true\"></span>\n",
    "        </a>\n",
    "      </div>\n",
    "\n",
    "      <div id=\"navbarBasicExample\" class=\"navbar-menu\">\n",
    "        <div class=\"navbar-start\">\n",
    "              <a href = \"#to-about\" class=\"navbar-item\">About</a>\n",
    "              <a href = \"#to-core-skills\" class=\"navbar-item\">Core Skills</a>\n",
    "              <a href = \"#to-projects\" class=\"navbar-item\">Projects</a>\n",
    "              <a href = \"#to-resume\" class=\"navbar-item\">Resume</a>\n",
    "        </div>\n",
    "        \n",
    "        <div class=\"navbar-end\">\n",
    "          <div class=\"navbar-item\">\n",
    "            <div class=\"buttons\">\n",
    "              <a href = \"https://github.com/danielc92\" class=\"button is-dark\">\n",
    "                Github Profile\n",
    "              </a>\n",
    "              <a href = \"https://danielcorcoranssql.wordpress.com\" class=\"button is-dark\">\n",
    "                Wordpress Blog\n",
    "              </a>\n",
    "              <a href = \"https://public.tableau.com/profile/daniel.corcoran#!\" class=\"button is-dark\">\n",
    "                Tableau Profile\n",
    "              </a>\n",
    "            </div>\n",
    "          </div>\n",
    "        </div>\n",
    "        </section>\n",
    "</nav>\n",
    "'''"
   ]
  },
  {
   "cell_type": "code",
   "execution_count": 3,
   "metadata": {},
   "outputs": [],
   "source": [
    "script = '''\n",
    "<script type=\"text/javascript\">\n",
    "    var dropdown = document.querySelector('.navbar-burger');\n",
    "    var menu = document.querySelector('.navbar-menu')\n",
    "    dropdown.addEventListener('click', function(event) {\n",
    "      event.stopPropagation();\n",
    "      menu.classList.toggle('is-active');\n",
    "    });\n",
    "</script>\n",
    "'''"
   ]
  },
  {
   "cell_type": "code",
   "execution_count": 4,
   "metadata": {},
   "outputs": [],
   "source": [
    "body = '''\n",
    "  <section class=\"hero is-light\">\n",
    "    <div class=\"hero-body\">\n",
    "    <div class=\"container\">\n",
    "      <h1 class=\"title is-size-2\"  id=\"to-about\">\n",
    "        About\n",
    "      </h1>\n",
    "      <p>\n",
    "        This website was built by Daniel Corcoran to serve as an enduring portfolio piece.<br>Daniel is currently working as a Data Engineer.\n",
    "      </p>\n",
    "    </div>\n",
    "    </div>\n",
    "  </section>\n",
    "  \n",
    "  <section class=\"hero is-link\" >\n",
    "  \n",
    "    <div class=\"hero-body\">\n",
    "    <div class = \"container\">\n",
    "      <h1 class=\"title\" id=\"to-core-skills\">\n",
    "        Core Skills\n",
    "      </h1>\n",
    "      <article class = \"tags\">\n",
    "          <div class = \"tag\">data analysis</div>\n",
    "          <div class = \"tag is-dark\">data visualization</div>\n",
    "          <div class = \"tag is-dark\">data engineering</div>\n",
    "          <div class = \"tag is-dark\">web scraping</div>\n",
    "          <div class = \"tag is-dark\">web development</div>\n",
    "          <div class = \"tag is-dark\">machine learning</div>\n",
    "          <div class = \"tag is-dark\">deep learning</div>\n",
    "          <div class = \"tag is-dark\">problem solving</div>\n",
    "      </article>\n",
    "    </div>\n",
    "    </div>\n",
    "  </section>\n",
    "  \n",
    "  <section class=\"hero is-light\">\n",
    "    <div class=\"hero-body\">\n",
    "    <div class=\"container\">\n",
    "      <h1 class=\"title\" id=\"to-projects\">\n",
    "        Projects\n",
    "      </h1>\n",
    "      {}\n",
    "    </div>\n",
    "    </div>\n",
    "  </section>\n",
    "'''"
   ]
  },
  {
   "cell_type": "markdown",
   "metadata": {},
   "source": [
    "### Data"
   ]
  },
  {
   "cell_type": "code",
   "execution_count": 5,
   "metadata": {},
   "outputs": [],
   "source": [
    "projects = [{'name':'Postgres Network Graph',\n",
    "             'info':'An animated visualization of a postgres database using D3.js, embedded in a tableau dashboard.',\n",
    "             'url':'https://public.tableau.com/profile/daniel.corcoran#!/vizhome/dvdrental2/Visualizingdvdrentalspostgresdatabase',\n",
    "             'date':'12-9-2018',\n",
    "             'themes':['data visualization', 'data analysis', 'dashboard', 'tableau'],\n",
    "             'tools':['tableau desktop', 'tableau public', 'D3.js', 'python'],\n",
    "             'img-url':'images/network-graph-1.png',\n",
    "             'placeholder':False},\n",
    "            \n",
    "            {'name':'Vic Crash Stats V2',\n",
    "             'info':'A tableau dashboard which examines over a decade of crash data in Victoria.',\n",
    "             'url':'https://public.tableau.com/profile/daniel.corcoran#!/vizhome/VicCrashStatsv2/TransportDashboard',\n",
    "             'date':'7-6-2018',\n",
    "             'themes':['data visualization', 'data analysis', 'dashboard', 'tableau'],\n",
    "             'tools':['tableau desktop', 'tableau public', 'python'],\n",
    "             'img-url':'images/vic-crash-stats-1.png',\n",
    "             'placeholder':False},\n",
    "            \n",
    "            {'name':'Crime in Victoria',\n",
    "             'info':'A series of tableau dashboards which examine over a decade of crime data in Victoria.',\n",
    "             'url':'https://public.tableau.com/profile/daniel.corcoran#!/vizhome/OffencesinVictoria/OffencesinVictoriaDashboard',\n",
    "             'date':'7-6-2018',\n",
    "             'themes':['data visualization', 'data analysis', 'dashboard', 'tableau'],\n",
    "             'tools':['tableau desktop', 'tableau public', 'python'],\n",
    "             'img-url':'images/crime-in-vic-1.png',\n",
    "             'placeholder':False},\n",
    "            \n",
    "            {'name':'',\n",
    "             'info':'',\n",
    "             'url':'',\n",
    "             'date':'',\n",
    "             'themes':[],\n",
    "             'tools':'',\n",
    "             'img-url':'',\n",
    "             'placeholder':True}\n",
    "           ]                                           "
   ]
  },
  {
   "cell_type": "markdown",
   "metadata": {},
   "source": [
    "###  Build Projects Section"
   ]
  },
  {
   "cell_type": "code",
   "execution_count": 6,
   "metadata": {},
   "outputs": [],
   "source": [
    "project_data = [project for project in projects if project['placeholder'] is False]"
   ]
  },
  {
   "cell_type": "code",
   "execution_count": 7,
   "metadata": {},
   "outputs": [],
   "source": [
    "card = '<div class = \"column\"><article class = \"card is-borderless\">\\\n",
    "            <div class = \"card-image is-borderless\">\\\n",
    "                <figure class=\"image is-4by3\">\\\n",
    "                      <img src=\"{}\" alt=\"Placeholder image\">\\\n",
    "                </figure>\\\n",
    "            </div>\\\n",
    "            <div class = \"card-content is-borderless\">\\\n",
    "            <div class = \"content\">\\\n",
    "                <div style=\"margin-bottom:.6rem;\">\\\n",
    "                    <span class = \"title is-size-6\">{}</span>\\\n",
    "                    <a href = \"{}\" class=\"icon has-text-link\"><i class=\"fas fa-external-link-alt \"></i></a>\\\n",
    "                </div>\\\n",
    "                <p class = \"is-size-7\">{}</p>\\\n",
    "                <p class = \"is-size-7\">Last updated: <span class = \"code has-text-success\">{}</span></p>\\\n",
    "                <div class = \"tags\">{}{}</div>\\\n",
    "            </div></div>\\\n",
    "        </article></div>'"
   ]
  },
  {
   "cell_type": "code",
   "execution_count": 8,
   "metadata": {},
   "outputs": [],
   "source": [
    "cards = '<div class = \"columns\">{}</div>'"
   ]
  },
  {
   "cell_type": "code",
   "execution_count": 9,
   "metadata": {},
   "outputs": [],
   "source": [
    "card_group = ''\n",
    "for p in project_data:\n",
    "    themes = ''.join(['<span class = \"tag is-info\" style = \"font-size: .6rem; margin-right:.2rem; margin-bottom: .1rem;\">{}</span>'.format(theme) for theme in p['themes']])\n",
    "    tools = ''.join(['<span class = \"tag is-warning\"style = \"font-size: .6rem; margin-right:.2rem; margin-bottom: .1rem;\">{}</span>'.format(tool) for tool in p['tools']])\n",
    "    card_group += card.format(p['img-url'], p['name'], p['url'],\n",
    "                              p['info'], p['date'], themes, tools)"
   ]
  },
  {
   "cell_type": "code",
   "execution_count": 10,
   "metadata": {},
   "outputs": [],
   "source": [
    "cards = cards.format(card_group)"
   ]
  },
  {
   "cell_type": "markdown",
   "metadata": {},
   "source": [
    "### Generate Site"
   ]
  },
  {
   "cell_type": "code",
   "execution_count": 11,
   "metadata": {},
   "outputs": [],
   "source": [
    "html_final = html_skeleton.format(nav, body.format(cards), script)"
   ]
  },
  {
   "cell_type": "markdown",
   "metadata": {},
   "source": [
    "### Export to HTML"
   ]
  },
  {
   "cell_type": "code",
   "execution_count": 12,
   "metadata": {},
   "outputs": [
    {
     "name": "stdout",
     "output_type": "stream",
     "text": [
      "Html file written to index.html.\n"
     ]
    }
   ],
   "source": [
    "fn = 'index.html'\n",
    "\n",
    "with open(fn, 'w') as writer:\n",
    "    writer.write(html_final)\n",
    "    writer.close()\n",
    "    print('Html file written to {}.'.format(fn))"
   ]
  },
  {
   "cell_type": "code",
   "execution_count": null,
   "metadata": {},
   "outputs": [],
   "source": []
  }
 ],
 "metadata": {
  "kernelspec": {
   "display_name": "Python 3",
   "language": "python",
   "name": "python3"
  },
  "language_info": {
   "codemirror_mode": {
    "name": "ipython",
    "version": 3
   },
   "file_extension": ".py",
   "mimetype": "text/x-python",
   "name": "python",
   "nbconvert_exporter": "python",
   "pygments_lexer": "ipython3",
   "version": "3.6.5"
  },
  "toc": {
   "base_numbering": 1,
   "nav_menu": {},
   "number_sections": true,
   "sideBar": true,
   "skip_h1_title": false,
   "title_cell": "Table of Contents",
   "title_sidebar": "Contents",
   "toc_cell": false,
   "toc_position": {},
   "toc_section_display": true,
   "toc_window_display": false
  }
 },
 "nbformat": 4,
 "nbformat_minor": 2
}
