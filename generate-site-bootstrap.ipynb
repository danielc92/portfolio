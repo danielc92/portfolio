{
 "cells": [
  {
   "cell_type": "markdown",
   "metadata": {},
   "source": [
    "# Generate Site Notebook\n",
    "This notebook will be responsible for generating the website's `index.html` file. `bulma` css framework will be used for this site."
   ]
  },
  {
   "cell_type": "markdown",
   "metadata": {},
   "source": [
    "###  Load Environment"
   ]
  },
  {
   "cell_type": "code",
   "execution_count": 1,
   "metadata": {},
   "outputs": [],
   "source": [
    "from IPython.core.display import HTML\n",
    "import pandas\n",
    "import json\n",
    "from jinja2 import Environment, PackageLoader, select_autoescape\n",
    "env = Environment(loader=PackageLoader('main', 'templates'),\n",
    "                  autoescape=select_autoescape(['html','xml']))"
   ]
  },
  {
   "cell_type": "markdown",
   "metadata": {},
   "source": [
    "### Load Projects"
   ]
  },
  {
   "cell_type": "code",
   "execution_count": 2,
   "metadata": {},
   "outputs": [],
   "source": [
    "with open('projects.json', 'r') as reader:\n",
    "    projects = json.load(reader)"
   ]
  },
  {
   "cell_type": "code",
   "execution_count": 3,
   "metadata": {},
   "outputs": [
    {
     "data": {
      "text/plain": [
       "17"
      ]
     },
     "execution_count": 3,
     "metadata": {},
     "output_type": "execute_result"
    }
   ],
   "source": [
    "len(projects)"
   ]
  },
  {
   "cell_type": "code",
   "execution_count": 6,
   "metadata": {},
   "outputs": [
    {
     "data": {
      "text/plain": [
       "[{'name': 'Robot Forum',\n",
       "  'info': 'Building a forum web application populated by a fictional robot community.',\n",
       "  'url': 'https://robot-forum.herokuapp.com',\n",
       "  'date': '24-1-2019',\n",
       "  'themes': ['web development', 'data engineering'],\n",
       "  'tools': ['heroku', 'python', 'SQL', 'flask'],\n",
       "  'img-url': 'images/robot-forum-1.jpg'},\n",
       " {'name': 'Rain Prediction',\n",
       "  'info': 'Using sklearn to predict rain on the next day in Australia (with 86% accuracy).',\n",
       "  'url': 'https://github.com/danielc92/rain_prediction/blob/master/Process.ipynb',\n",
       "  'date': '21-1-2019',\n",
       "  'themes': ['binary classification', 'machine learning', 'random forest'],\n",
       "  'tools': ['sklearn', 'python', 'jupyter'],\n",
       "  'img-url': 'images/rain-prediction.jpg'},\n",
       " {'name': 'SMS Spam Detection',\n",
       "  'info': 'Using sklearn to classify spam sms messages (with 96% accuracy).',\n",
       "  'url': 'https://github.com/danielc92/python_nb_sklearn_gaussian_naive_bayes/blob/master/multinomial-naive-bayes-spam-gridsearch.ipynb',\n",
       "  'date': '16-1-2019',\n",
       "  'themes': ['text classification', 'machine learning', 'naive bayes'],\n",
       "  'tools': ['sklearn', 'python', 'jupyter'],\n",
       "  'img-url': 'images/spam-mail.png'},\n",
       " {'name': 'IMDB Sentiment Analysis',\n",
       "  'info': \"Using sklearn to predict sentiment from IMDB's movie review dataset (with 81% accuracy).\",\n",
       "  'url': 'https://github.com/danielc92/python_nb_sklearn_gaussian_naive_bayes/blob/master/multinomial-naive-bayes-imdb-gridsearch.ipynb',\n",
       "  'date': '15-1-2019',\n",
       "  'themes': ['text classification', 'machine learning', 'naive bayes'],\n",
       "  'tools': ['sklearn', 'python', 'jupyter'],\n",
       "  'img-url': 'images/sentiment.jpg'},\n",
       " {'name': 'Pool Detection Aerial Imagery',\n",
       "  'info': 'Detecting pools in Melbourne from high quality satellite imagery.',\n",
       "  'url': 'https://danielcorcoranssql.wordpress.com/2019/01/13/detecting-pools-from-aerial-imagery-using-cv2/',\n",
       "  'date': '13-1-2019',\n",
       "  'themes': ['object detection'],\n",
       "  'tools': ['opencv2', 'python', 'jupyter'],\n",
       "  'img-url': 'images/pool-1.jpg'},\n",
       " {'name': 'Shark Object Detection',\n",
       "  'info': 'Training a YOLOv3 model to detect sharks under water in both image and video files.',\n",
       "  'url': 'https://danielcorcoranssql.wordpress.com/2018/12/30/detecting-sharks-with-yolov3/',\n",
       "  'date': '30-12-2018',\n",
       "  'themes': ['deep learning', 'object detection'],\n",
       "  'tools': ['cuda', 'c++', 'CNN', 'YOLOv3'],\n",
       "  'img-url': 'images/object-shark-1.jpg'},\n",
       " {'name': 'DC Charts',\n",
       "  'info': 'A flask web application capable of dynamically producing svg charts from csvs hosted on github.',\n",
       "  'url': 'https://dc-chart.herokuapp.com',\n",
       "  'date': '20-12-2018',\n",
       "  'themes': ['web development', 'data visualization', 'data analysis'],\n",
       "  'tools': ['flask', 'heroku', 'python', 'pygal'],\n",
       "  'img-url': 'images/dc-chart-2.png'},\n",
       " {'name': 'NFPA Object Detection',\n",
       "  'info': 'Training a YOLOv3 model to detect National Fire Protection Association (NFPA) symbols.',\n",
       "  'url': 'https://danielcorcoranssql.wordpress.com/2018/12/24/yolov3-custom-model-training-nfpa-dataset/',\n",
       "  'date': '1-12-2018',\n",
       "  'themes': ['deep learning', 'object detection'],\n",
       "  'tools': ['cuda', 'c++', 'CNN', 'YOLOv3'],\n",
       "  'img-url': 'images/object-nfpa-1.png'},\n",
       " {'name': 'Postgres Network Graph',\n",
       "  'info': 'An animated visualization of a postgres database using D3.js, embedded in a tableau dashboard.',\n",
       "  'url': 'https://public.tableau.com/profile/daniel.corcoran#!/vizhome/dvdrental2/Visualizingdvdrentalspostgresdatabase',\n",
       "  'date': '12-9-2018',\n",
       "  'themes': ['data visualization', 'data analysis', 'dashboard', 'tableau'],\n",
       "  'tools': ['tableau desktop', 'tableau public', 'D3.js', 'python'],\n",
       "  'img-url': 'images/network-graph-1.png'},\n",
       " {'name': 'Logistic Regression Collection',\n",
       "  'info': 'Collection of several logistic regression (binary classification) models, mainly using health data.',\n",
       "  'url': 'https://github.com/danielc92/python_nb_sklearn_logistic_regression',\n",
       "  'date': '20-7-2018',\n",
       "  'themes': ['logistic regression', 'machine learning', 'classification'],\n",
       "  'tools': ['jupyter notebook', 'sklearn', 'pandas', 'python', 'seaborn'],\n",
       "  'img-url': 'images/log.jpg'},\n",
       " {'name': 'Data Profiling',\n",
       "  'info': \"A Jupyter notebook capable of profiling data using python's pandas library.\",\n",
       "  'url': 'https://github.com/danielc92/python_nb_data_profiling/blob/master/notebook_data_profililng.ipynb',\n",
       "  'date': '15-7-2018',\n",
       "  'themes': ['data visualization', 'data profiling'],\n",
       "  'tools': ['jupyter notebook', 'pandas', 'python', 'seaborn'],\n",
       "  'img-url': 'images/data-profiling-1.png'},\n",
       " {'name': 'Static Site Generator',\n",
       "  'info': 'Generating a static album website in python',\n",
       "  'url': 'https://danielc92.github.io/static_site_generator/html/index0.html',\n",
       "  'date': '22-6-2018',\n",
       "  'themes': ['web development'],\n",
       "  'tools': ['python', 'jupyter'],\n",
       "  'img-url': 'images/static-site-generator.png'},\n",
       " {'name': 'Vic Crash Stats V2',\n",
       "  'info': 'A tableau dashboard which examines over a decade of crash data in Victoria.',\n",
       "  'url': 'https://public.tableau.com/profile/daniel.corcoran#!/vizhome/VicCrashStatsv2/TransportDashboard',\n",
       "  'date': '7-6-2018',\n",
       "  'themes': ['data visualization', 'data analysis', 'dashboard', 'tableau'],\n",
       "  'tools': ['tableau desktop', 'tableau public', 'python'],\n",
       "  'img-url': 'images/vic-crash-stats-1.png'},\n",
       " {'name': 'Crime in Victoria',\n",
       "  'info': 'A series of tableau dashboards which examine over a decade of crime data in Victoria.',\n",
       "  'url': 'https://public.tableau.com/profile/daniel.corcoran#!/vizhome/OffencesinVictoria/OffencesinVictoriaDashboard',\n",
       "  'date': '7-6-2018',\n",
       "  'themes': ['data visualization', 'data analysis', 'dashboard', 'tableau'],\n",
       "  'tools': ['tableau desktop', 'tableau public', 'python'],\n",
       "  'img-url': 'images/crime-in-vic-1.png'},\n",
       " {'name': 'Preschool Trainer App',\n",
       "  'info': 'Designing and building a desktop application capable of dynamically generating and marking student tests. This project has 2 parts.',\n",
       "  'url': 'https://danielcorcoranssql.wordpress.com/2017/03/12/c-project-preschool-trainer-v1-0-2-part-2/',\n",
       "  'date': '12-3-2017',\n",
       "  'themes': ['desktop application', 'education'],\n",
       "  'tools': ['Visual Studio', 'C#'],\n",
       "  'img-url': 'images/preschool-trainer-1.png'},\n",
       " {'name': 'University Database',\n",
       "  'info': 'Designing and building a university database in Microsoft SQL Server. This project has 5 parts.',\n",
       "  'url': 'https://danielcorcoranssql.wordpress.com/2017/02/12/sql-server-project-university-database-part-1-design/',\n",
       "  'date': '12-2-2017',\n",
       "  'themes': ['relational database', 'database design'],\n",
       "  'tools': ['Microsoft SQL Server', 'SQL'],\n",
       "  'img-url': 'images/uni-database-1.png'},\n",
       " {'name': 'Police Database',\n",
       "  'info': 'Designing and building a police database in Microsoft SQL Server. This project has 5 parts.',\n",
       "  'url': 'https://danielcorcoranssql.wordpress.com/2017/01/02/database-project-state-police-database-design-part-1/',\n",
       "  'date': '2-1-2017',\n",
       "  'themes': ['relational database', 'database design'],\n",
       "  'tools': ['Microsoft SQL Server', 'SQL'],\n",
       "  'img-url': 'images/police-database-1.png'}]"
      ]
     },
     "execution_count": 6,
     "metadata": {},
     "output_type": "execute_result"
    }
   ],
   "source": [
    "projects"
   ]
  },
  {
   "cell_type": "markdown",
   "metadata": {},
   "source": [
    "### Load template"
   ]
  },
  {
   "cell_type": "code",
   "execution_count": 7,
   "metadata": {},
   "outputs": [],
   "source": [
    "template = env.get_template('base.html')"
   ]
  },
  {
   "cell_type": "markdown",
   "metadata": {},
   "source": [
    "### Dump to html"
   ]
  },
  {
   "cell_type": "code",
   "execution_count": 9,
   "metadata": {},
   "outputs": [],
   "source": [
    "template.stream(projects=projects).dump('index.html')"
   ]
  }
 ],
 "metadata": {
  "kernelspec": {
   "display_name": "Python 3",
   "language": "python",
   "name": "python3"
  },
  "language_info": {
   "codemirror_mode": {
    "name": "ipython",
    "version": 3
   },
   "file_extension": ".py",
   "mimetype": "text/x-python",
   "name": "python",
   "nbconvert_exporter": "python",
   "pygments_lexer": "ipython3",
   "version": "3.7.2"
  },
  "toc": {
   "base_numbering": 1,
   "nav_menu": {},
   "number_sections": true,
   "sideBar": true,
   "skip_h1_title": false,
   "title_cell": "Table of Contents",
   "title_sidebar": "Contents",
   "toc_cell": false,
   "toc_position": {},
   "toc_section_display": true,
   "toc_window_display": true
  },
  "varInspector": {
   "cols": {
    "lenName": 16,
    "lenType": 16,
    "lenVar": 40
   },
   "kernels_config": {
    "python": {
     "delete_cmd_postfix": "",
     "delete_cmd_prefix": "del ",
     "library": "var_list.py",
     "varRefreshCmd": "print(var_dic_list())"
    },
    "r": {
     "delete_cmd_postfix": ") ",
     "delete_cmd_prefix": "rm(",
     "library": "var_list.r",
     "varRefreshCmd": "cat(var_dic_list()) "
    }
   },
   "types_to_exclude": [
    "module",
    "function",
    "builtin_function_or_method",
    "instance",
    "_Feature"
   ],
   "window_display": false
  }
 },
 "nbformat": 4,
 "nbformat_minor": 2
}
